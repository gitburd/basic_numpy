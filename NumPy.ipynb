{
 "cells": [
  {
   "cell_type": "code",
   "execution_count": 15,
   "id": "61f2c3a0",
   "metadata": {},
   "outputs": [],
   "source": [
    "import numpy as np"
   ]
  },
  {
   "cell_type": "code",
   "execution_count": 358,
   "id": "61d74286",
   "metadata": {},
   "outputs": [
    {
     "name": "stdout",
     "output_type": "stream",
     "text": [
      "True\n",
      "False\n",
      "int64\n",
      "<U21\n"
     ]
    }
   ],
   "source": [
    "numbers = np.array([1,2,3])\n",
    "mixed_type = np.array([True, \"two\", 3])\n",
    "\n",
    "# numbers[2] != mixed_type[2]\n",
    "print(numbers[2] == 3)\n",
    "print(mixed_type[2] == 3)\n",
    "\n",
    "print(numbers.dtype)\n",
    "print(mixed_type.dtype)"
   ]
  },
  {
   "cell_type": "code",
   "execution_count": 491,
   "id": "6cca556a",
   "metadata": {},
   "outputs": [
    {
     "name": "stdout",
     "output_type": "stream",
     "text": [
      "[4 5]\n",
      "[2 3 4]\n",
      "[5 3 1]\n"
     ]
    }
   ],
   "source": [
    "numbers = np.array([1,2,3,4,5])\n",
    "print(numbers[3:])\n",
    "print(numbers[1:4:])\n",
    "print(numbers[::-2])"
   ]
  },
  {
   "cell_type": "code",
   "execution_count": 501,
   "id": "86b2a060",
   "metadata": {},
   "outputs": [
    {
     "name": "stdout",
     "output_type": "stream",
     "text": [
      "[0 2 3 4 5]\n",
      "[ 0 88 99 88  5]\n",
      "[ 0 88  0 88  0]\n"
     ]
    }
   ],
   "source": [
    "numbers = np.array([1,2,3,4,5])\n",
    "# element\n",
    "numbers[0] = 0\n",
    "print(numbers)\n",
    "# slice\n",
    "numbers[1:4] = [88,99,88]\n",
    "print(numbers)\n",
    "# even\n",
    "numbers[::2] = 0\n",
    "print(numbers)"
   ]
  },
  {
   "cell_type": "code",
   "execution_count": 473,
   "id": "c2fe7cf6",
   "metadata": {},
   "outputs": [
    {
     "name": "stdout",
     "output_type": "stream",
     "text": [
      "[1 2 3 4]\n",
      "[1 2 3 4 5 6]\n",
      "[1 9 2 3]\n",
      "[1 9 9 2 3]\n"
     ]
    }
   ],
   "source": [
    "numbers = np.array([1,2,3])\n",
    "\n",
    "print(np.append(numbers,4))\n",
    "print(np.append(numbers,[4,5,6]))\n",
    "print(np.insert(numbers, 1, 9))\n",
    "print(np.insert(numbers, 1, [9,9]))"
   ]
  },
  {
   "cell_type": "code",
   "execution_count": 527,
   "id": "c014bcf3",
   "metadata": {
    "scrolled": true
   },
   "outputs": [
    {
     "name": "stdout",
     "output_type": "stream",
     "text": [
      "[0 1 2 4 5]\n",
      "[0 3 5]\n",
      "[0 1 3 4 5]\n"
     ]
    }
   ],
   "source": [
    "numbers = np.array([0,1,2,3,4,5])\n",
    "\n",
    "# remove indexes\n",
    "print(np.delete(numbers,3))\n",
    "print(np.delete(numbers,[1,4,2]))\n",
    "\n",
    "# remove values\n",
    "print(numbers[numbers != 2])"
   ]
  },
  {
   "cell_type": "code",
   "execution_count": 667,
   "id": "9513612f",
   "metadata": {},
   "outputs": [
    {
     "name": "stdout",
     "output_type": "stream",
     "text": [
      "[1 2 3 7 0 0]\n",
      "[2 2 3 7 7 7]\n",
      "[False False False  True  True  True]\n"
     ]
    }
   ],
   "source": [
    "numbers = np.array([1,2,3,7,8,9])\n",
    "\n",
    "print(np.where(numbers > 7 , 0, numbers))\n",
    "print(np.clip(numbers,2,7))\n",
    "print(numbers > 3)"
   ]
  },
  {
   "cell_type": "code",
   "execution_count": 665,
   "id": "91fe410e",
   "metadata": {},
   "outputs": [
    {
     "name": "stdout",
     "output_type": "stream",
     "text": [
      "[0 0 0 4 5]\n",
      "[1 2 3 4 5]\n"
     ]
    }
   ],
   "source": [
    "numbers = np.array([1,2,3,4,5])\n",
    "numbers_b = numbers\n",
    "numbers_copy = numbers.copy()\n",
    "\n",
    "numbers[:3]=0\n",
    "\n",
    "print(numbers_b)\n",
    "print(numbers_copy)"
   ]
  },
  {
   "cell_type": "code",
   "execution_count": 555,
   "id": "a8720a0d",
   "metadata": {},
   "outputs": [
    {
     "name": "stdout",
     "output_type": "stream",
     "text": [
      "[[ 0  1  2]\n",
      " [10 11 12]\n",
      " [20 21 22]]\n"
     ]
    }
   ],
   "source": [
    "matrix = np.array([[0,1,2],[10,11,12], [20,21,22]])\n",
    "print(matrix)"
   ]
  },
  {
   "cell_type": "code",
   "execution_count": 668,
   "id": "6e17e0d8",
   "metadata": {},
   "outputs": [
    {
     "name": "stdout",
     "output_type": "stream",
     "text": [
      "1 \n",
      "\n",
      "[0 1 2] \n",
      "\n",
      "[ 2 12 22] \n",
      "\n",
      "[[ 0  1]\n",
      " [10 11]] \n",
      "\n",
      "[[22 21 20]\n",
      " [12 11 10]\n",
      " [ 2  1  0]]\n"
     ]
    }
   ],
   "source": [
    "# matrix = np.array([[0,1,2],[10,11,12], [20,21,22]])\n",
    "print(matrix[0,1], \"\\n\")\n",
    "# array[row(start:stop:step)\n",
    "print(matrix[0,:], \"\\n\") # row \n",
    "print(matrix[:,2], \"\\n\") # col \n",
    "print(matrix[0:2,0:2], \"\\n\") # slice \n",
    "print(matrix[2::-1,2::-1]) # negative step"
   ]
  },
  {
   "cell_type": "code",
   "execution_count": 570,
   "id": "6b3a28f4",
   "metadata": {},
   "outputs": [
    {
     "name": "stdout",
     "output_type": "stream",
     "text": [
      "[[ 0  1  2]\n",
      " [10 99 12]\n",
      " [20 21 22]] \n",
      "\n",
      "[[ 0  1  2]\n",
      " [80 81 82]\n",
      " [20 21 22]] \n",
      "\n",
      "[[ 0 77  2]\n",
      " [80 81 82]\n",
      " [20 77 22]]\n"
     ]
    }
   ],
   "source": [
    "matrix = np.array([[0,1,2],[10,11,12], [20,21,22]])\n",
    "\n",
    "matrix[1,1] = 99\n",
    "print(matrix, \"\\n\")\n",
    "\n",
    "# replace every element in a row\n",
    "matrix[1,:] = [80, 81, 82]\n",
    "print(matrix, \"\\n\")\n",
    "\n",
    "# replace even elements in a col\n",
    "matrix[0::2,1] = 77\n",
    "print(matrix)"
   ]
  },
  {
   "cell_type": "code",
   "execution_count": 593,
   "id": "203dcc32",
   "metadata": {},
   "outputs": [
    {
     "name": "stdout",
     "output_type": "stream",
     "text": [
      "[[ 0  1  2]\n",
      " [10 11  0]\n",
      " [20  0 22]] \n",
      "\n",
      "[20  0 22] \n",
      "\n",
      "[[ 8  8  8]\n",
      " [10 11 12]\n",
      " [18 18 18]] \n",
      "\n",
      "[ 3 12 13]\n"
     ]
    }
   ],
   "source": [
    "matrix = np.array([[0,1,2],[10,11,12], [20,21,22]])\n",
    "print(np.where(matrix % 3 == 0, 0, matrix), \"\\n\")\n",
    "print(np.where(matrix[2] % 3 == 0, 0, matrix[2]), \"\\n\") #where with one row\n",
    "\n",
    "print(np.clip(matrix,8,18), \"\\n\")\n",
    "print(np.clip(matrix[:,2],3,13)) #clip with one col"
   ]
  },
  {
   "cell_type": "code",
   "execution_count": 562,
   "id": "e968bb26",
   "metadata": {},
   "outputs": [
    {
     "name": "stdout",
     "output_type": "stream",
     "text": [
      "[[ 0  1  2]\n",
      " [10 11 12]\n",
      " [20 21 22]\n",
      " [30 31 32]]\n"
     ]
    }
   ],
   "source": [
    "matrix = np.array([[0,1,2],[10,11,12], [20,21,22]])\n",
    "print(np.concatenate((matrix, [[30,31,32]])))"
   ]
  },
  {
   "cell_type": "code",
   "execution_count": 565,
   "id": "a1101865",
   "metadata": {},
   "outputs": [
    {
     "name": "stdout",
     "output_type": "stream",
     "text": [
      "[[ 0  1  2]\n",
      " [10 11 12]\n",
      " [20 21 22]\n",
      " [30 31 32]\n",
      " [40 41 42]]\n"
     ]
    }
   ],
   "source": [
    "matrix = np.array([[0,1,2],[10,11,12], [20,21,22]])\n",
    "print(np.vstack([\n",
    "    matrix,\n",
    "    [30,31,32], \n",
    "    [40,41,42]])) # add row"
   ]
  },
  {
   "cell_type": "code",
   "execution_count": 566,
   "id": "f7d31340",
   "metadata": {
    "scrolled": true
   },
   "outputs": [
    {
     "name": "stdout",
     "output_type": "stream",
     "text": [
      "[[ 0  1  2  3  4]\n",
      " [10 11 12 13 14]\n",
      " [20 21 22 23 24]]\n"
     ]
    }
   ],
   "source": [
    "matrix = np.array([[0,1,2],[10,11,12], [20,21,22]])\n",
    "print(np.hstack([\n",
    "      matrix,\n",
    "      [[3,4],\n",
    "       [13,14],\n",
    "       [23,24]\n",
    "      ]]))\n",
    "\n",
    "# print(\"dimenssions: \", five_by_five.ndim) \n",
    "# print(\"shape: \", five_by_five.shape)"
   ]
  },
  {
   "cell_type": "code",
   "execution_count": 443,
   "id": "c05cb1f7",
   "metadata": {},
   "outputs": [
    {
     "name": "stdout",
     "output_type": "stream",
     "text": [
      "[[ 0  1  2]\n",
      " [20 21 22]] \n",
      "\n",
      "[[ 0  2]\n",
      " [10 12]\n",
      " [20 22]] \n",
      "\n"
     ]
    }
   ],
   "source": [
    "matrix = np.array([[0,1,2],[10,11,12], [20,21,22]])\n",
    "\n",
    "row_del = np.delete(matrix, 1, 0)\n",
    "print(row_del, \"\\n\")\n",
    "\n",
    "col_del = np.delete(matrix, 1, 1)\n",
    "print(col_del, \"\\n\")"
   ]
  },
  {
   "cell_type": "code",
   "execution_count": 627,
   "id": "7e937afd",
   "metadata": {},
   "outputs": [
    {
     "name": "stdout",
     "output_type": "stream",
     "text": [
      "shape: (3, 2, 2) \n",
      "\n",
      "[[[ 0  1]\n",
      "  [10 11]]\n",
      "\n",
      " [[40 41]\n",
      "  [50 51]]] \n",
      " shape: (2, 2, 2) \n",
      "\n",
      "[[[ 0  1]]\n",
      "\n",
      " [[20 21]]\n",
      "\n",
      " [[40 41]]] \n",
      " shape: (3, 1, 2) \n",
      "\n",
      "[[[ 0]\n",
      "  [10]]\n",
      "\n",
      " [[20]\n",
      "  [30]]\n",
      "\n",
      " [[40]\n",
      "  [50]]] \n",
      " shape: (3, 2, 1) \n",
      "\n",
      "3 3 3\n"
     ]
    }
   ],
   "source": [
    "tensor = np.array([[[0,1],[10,11]],\n",
    "                   [[20,21],[30,31]],\n",
    "                   [[40,41], [50,51]]\n",
    "                 ])\n",
    "print(\"shape:\", tensor.shape, \"\\n\")\n",
    "zero_del = np.delete(tensor, 1, 0)\n",
    "print(zero_del, \"\\n\", \"shape:\", zero_del.shape, \"\\n\")\n",
    "\n",
    "one_del = np.delete(tensor, 1, 1)\n",
    "print(one_del, \"\\n\", \"shape:\", one_del.shape, \"\\n\")\n",
    "\n",
    "two_del = np.delete(tensor, 1, 2)\n",
    "print(two_del, \"\\n\", \"shape:\", two_del.shape, \"\\n\")\n",
    "print(zero_del.ndim, one_del.ndim, two_del.ndim)"
   ]
  },
  {
   "cell_type": "code",
   "execution_count": 636,
   "id": "d8c64845",
   "metadata": {},
   "outputs": [
    {
     "name": "stdout",
     "output_type": "stream",
     "text": [
      "[[ 0  1 10 11]\n",
      " [20 21 30 31]\n",
      " [40 41 50 51]] \n",
      "\n",
      "[[[[ 0  1 10]]\n",
      "\n",
      "  [[11 20 21]]]\n",
      "\n",
      "\n",
      " [[[30 31 40]]\n",
      "\n",
      "  [[41 50 51]]]] \n",
      "\n",
      "[ 0  1 10 11 20 21 30 31 40 41 50 51]\n"
     ]
    }
   ],
   "source": [
    "array = np.array([[[0,1],[10,11]],\n",
    "                  [[20,21],[30,31]],\n",
    "                  [[40,41], [50,51]]])\n",
    "print(array.reshape(3,4), \"\\n\")\n",
    "print(array.reshape(2,2,1,3), \"\\n\")\n",
    "print(array.reshape(12))"
   ]
  },
  {
   "cell_type": "code",
   "execution_count": 433,
   "id": "3081eb60",
   "metadata": {},
   "outputs": [
    {
     "name": "stdout",
     "output_type": "stream",
     "text": [
      "[[0. 0. 0.]\n",
      " [0. 0. 0.]] \n",
      "\n",
      "[[[1 1 1 1]\n",
      "  [1 1 1 1]\n",
      "  [1 1 1 1]]\n",
      "\n",
      " [[1 1 1 1]\n",
      "  [1 1 1 1]\n",
      "  [1 1 1 1]]] \n",
      "\n",
      "[[[3 3]\n",
      "  [3 3]]\n",
      "\n",
      " [[3 3]\n",
      "  [3 3]]]\n"
     ]
    }
   ],
   "source": [
    "zeros = np.zeros((2,3))\n",
    "print(zeros, \"\\n\")\n",
    "\n",
    "ones = np.ones((2,3,4), dtype=\"int8\")\n",
    "print(ones, \"\\n\")\n",
    "               \n",
    "threes =  np.full((2,2,2),3)\n",
    "print(threes)"
   ]
  },
  {
   "cell_type": "code",
   "execution_count": 671,
   "id": "61aee449",
   "metadata": {},
   "outputs": [
    {
     "name": "stdout",
     "output_type": "stream",
     "text": [
      "[[[0.92044167 0.08761982]\n",
      "  [0.74210817 0.80984532]]\n",
      "\n",
      " [[0.37007556 0.28742253]\n",
      "  [0.42436365 0.94320149]]] \n",
      "\n",
      "[[ 0 -4 -2]\n",
      " [-9 -6 10]\n",
      " [ 4 10  9]]\n"
     ]
    }
   ],
   "source": [
    "# random decimals\n",
    "print(np.random.random((2,2,2)), \"\\n\")\n",
    "\n",
    "# random whole nums\n",
    "print(np.random.randint(\n",
    "  -10,\n",
    "  11, \n",
    "  size = (3,3)))"
   ]
  },
  {
   "cell_type": "code",
   "execution_count": 230,
   "id": "3e8c3ae0",
   "metadata": {},
   "outputs": [
    {
     "name": "stdout",
     "output_type": "stream",
     "text": [
      "sapphire \n",
      "\n",
      "[['lava' 'sapphire']\n",
      " ['lava' 'sapphire']] \n",
      "\n",
      "['mahogany' 'bumblebee' 'moss' 'cinnamon' 'sapphire' 'lava']\n"
     ]
    }
   ],
   "source": [
    "colors = np.array([ \"bumblebee\", \"cinnamon\", \"lava\", \"mahogany\", \"moss\", \"sapphire\"])\n",
    "\n",
    "print(np.random.choice(colors), \"\\n\")\n",
    "print(np.random.choice(colors, size=(2,2)), \"\\n\")\n",
    "\n",
    "np.random.shuffle(colors)\n",
    "print(colors)"
   ]
  },
  {
   "cell_type": "code",
   "execution_count": 659,
   "id": "1b58a5e5",
   "metadata": {},
   "outputs": [
    {
     "name": "stdout",
     "output_type": "stream",
     "text": [
      "[-90 -45   0  45  90]\n",
      "[-12  -9  -4   3  12]\n",
      "[ -90 -180    0  720 2250]\n",
      "[-0.44807362  0.52532199  1.          0.52532199 -0.44807362]\n"
     ]
    }
   ],
   "source": [
    "squares = np.array([1,4,9,16,25])\n",
    "degrees = np.arange(-90, 135, 45)\n",
    "print(degrees)\n",
    "print(squares-13)\n",
    "print(squares * degrees)\n",
    "print(np.cos(degrees))"
   ]
  },
  {
   "cell_type": "code",
   "execution_count": 660,
   "id": "a86378b8",
   "metadata": {},
   "outputs": [
    {
     "name": "stdout",
     "output_type": "stream",
     "text": [
      "10 \n",
      "\n",
      "[10  4  1] \n",
      "\n",
      "[-7 -8 -2] \n",
      "\n"
     ]
    }
   ],
   "source": [
    "stats = [[-2, -3, -7],[10, -8,  1],[ 7,  4, -2]]\n",
    "print(np.max(stats), \"\\n\")\n",
    "print(np.max(stats, axis = 0), \"\\n\")\n",
    "print(np.min(stats, axis = 1), \"\\n\")"
   ]
  },
  {
   "cell_type": "code",
   "execution_count": 458,
   "id": "908d98a0",
   "metadata": {},
   "outputs": [
    {
     "name": "stdout",
     "output_type": "stream",
     "text": [
      "[[99, 99, 99], [10, -8, 1], [7, 4, -2]]\n",
      "[[-2, -3, -7], [10, -8, 1], [7, 4, -2]]\n"
     ]
    }
   ],
   "source": [
    "stats = [[-2, -3, -7],[10, -8,  1],[ 7,  4, -2]]\n",
    "stats_b = stats\n",
    "stats_copy = stats.copy()\n",
    "\n",
    "# print(stats_b)\n",
    "# print(stats_copy, \"\\n\")\n",
    "\n",
    "stats[0]\n",
    "stats[0] = [99,99,99]\n",
    "\n",
    "print(stats_b)\n",
    "print(stats_copy)"
   ]
  }
 ],
 "metadata": {
  "kernelspec": {
   "display_name": "Python 3",
   "language": "python",
   "name": "python3"
  },
  "language_info": {
   "codemirror_mode": {
    "name": "ipython",
    "version": 3
   },
   "file_extension": ".py",
   "mimetype": "text/x-python",
   "name": "python",
   "nbconvert_exporter": "python",
   "pygments_lexer": "ipython3",
   "version": "3.8.2"
  }
 },
 "nbformat": 4,
 "nbformat_minor": 5
}
